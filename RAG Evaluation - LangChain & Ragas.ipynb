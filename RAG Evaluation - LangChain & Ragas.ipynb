{
 "cells": [
  {
   "cell_type": "markdown",
   "id": "116b4239-5514-4d6a-9987-10ffaaeaf95f",
   "metadata": {},
   "source": [
    "# Evaluation with RAGAS\n",
    "\n",
    "- Ragas (RAG Assessment)\n",
    "- [RAGAS](https://docs.ragas.io/en/stable/) : is a framework that helps us evaluate our Retrieval Augmented Generation (RAG) pipelines."
   ]
  },
  {
   "cell_type": "markdown",
   "id": "d712be80-d01f-4393-8ae3-16f9e9a82839",
   "metadata": {
    "jp-MarkdownHeadingCollapsed": true
   },
   "source": [
    "## 0. Praper the enviroment"
   ]
  },
  {
   "cell_type": "code",
   "execution_count": 4,
   "id": "4366fe31-1cde-46e9-bea9-c42f436fc6e8",
   "metadata": {},
   "outputs": [],
   "source": [
    "# !pip install -r requirements.txt"
   ]
  },
  {
   "cell_type": "code",
   "execution_count": 3,
   "id": "4f6fd76f-9752-494d-9b6e-1881b9656196",
   "metadata": {},
   "outputs": [],
   "source": [
    "import os\n",
    "import openai\n",
    "from sk import openai_api_key\n",
    "\n",
    "openai.api_key = openai_api_key\n",
    "os.environ[\"OPENAI_API_KEY\"] = openai.api_key"
   ]
  },
  {
   "cell_type": "markdown",
   "id": "3c1f2628-77e1-4b56-b5c3-d04d1156c7e2",
   "metadata": {
    "jp-MarkdownHeadingCollapsed": true
   },
   "source": [
    "## I. Create the dataset for evaluation"
   ]
  },
  {
   "cell_type": "markdown",
   "id": "67a4555a-892a-43e2-a487-35fc5cc91909",
   "metadata": {
    "jp-MarkdownHeadingCollapsed": true
   },
   "source": [
    "### 1. Prepare pinecone"
   ]
  },
  {
   "cell_type": "code",
   "execution_count": 10,
   "id": "d7c87700-aa9c-4065-a27c-1a88b63e1c2e",
   "metadata": {},
   "outputs": [],
   "source": [
    "from pinecone import Pinecone\n",
    "from sk import pinecone_api_key\n",
    "from langchain_pinecone import PineconeVectorStore\n",
    "from langchain_openai import OpenAIEmbeddings\n",
    "\n",
    "pc = Pinecone(api_key = pinecone_api_key)\n",
    "embeddings = OpenAIEmbeddings()\n",
    "\n",
    "index_name = 'test-index'\n",
    "index = pc.Index(index_name)\n",
    "vector_store = PineconeVectorStore(index=index, embedding=embeddings)\n",
    "\n",
    "retriever = vector_store.as_retriever(\n",
    "    search_type=\"mmr\",\n",
    "    search_kwargs={\"k\": 3, \"fetch_k\": 6, \"lambda_mult\": 0.5},\n",
    ")"
   ]
  },
  {
   "cell_type": "markdown",
   "id": "8b763af3-f230-4981-86b2-a3a91cc50073",
   "metadata": {
    "jp-MarkdownHeadingCollapsed": true
   },
   "source": [
    "#### Test if everything is good"
   ]
  },
  {
   "cell_type": "code",
   "execution_count": 34,
   "id": "87e8f888-2d04-4595-98d0-96c29588794f",
   "metadata": {},
   "outputs": [],
   "source": [
    "relevant_docs = retriever.invoke(\"Quelle est la date de naissance de Khalid Regui ?\")"
   ]
  },
  {
   "cell_type": "code",
   "execution_count": 20,
   "id": "c04af1b4-d407-4383-9125-9db8be7b75cb",
   "metadata": {},
   "outputs": [
    {
     "data": {
      "text/plain": [
       "3"
      ]
     },
     "execution_count": 20,
     "metadata": {},
     "output_type": "execute_result"
    }
   ],
   "source": [
    "len(relevant_docs)"
   ]
  },
  {
   "cell_type": "code",
   "execution_count": 35,
   "id": "31b108a6-f196-42e9-b653-a020f226f139",
   "metadata": {},
   "outputs": [
    {
     "name": "stdout",
     "output_type": "stream",
     "text": [
      "Relevé d'Identité Bancaire  Intitulé du compte : KHALID REGUI  Agence du client : NADOR YOUSSEF IBN TACHFINE  Adresse de votre agence : ANGLE BD HASSAN 1ER ET RUE AL HAMRA NADOR  Téléphone de votre agence : 05 36 32 92 60  Code Banque Code Ville N° Compte Clé RIB  R.I.B. 230 500 3661789211027500 57  I.B.A.N. MA64 2305 0036 6178 9211 0275 0057  B.I.C / SWIFT CIHMMAMC\n",
      "------------------------------------------------------------------------------------------------------------------------------------------------------\n",
      "encore. De plus, j'ai donné des cours et des ateliers, et participé à diverses compétitions et  hackathons, où notre équipe a remporté plusieurs prix.  Je suis un data scientist passionné, avec une solide formation en mathématiques, en informatique, en  analyse des données et en machine learning. Avec une expérience dans plusieurs projets de science des  données, ma valeur est l'excellence. Ma motivation est d'exploiter la puissance des données pour  résoudre efficacement des problèmes complexes.  KHALID REGUI  Adresse :  Téléphone :  Email :  Site web :  Av. Ibn Sina, Rabat  0701111688  kh.regui@gmail.com  www.regui.online  Baccalauréat en Mathématiques 2020  Lycée Abdelkrim El Khattabi  Certificat par Maharat Google : Fondamentaux du\n",
      "------------------------------------------------------------------------------------------------------------------------------------------------------\n",
      "UNIVERSITE MOHAMMED V DE RABAT \\\\ Lolaylly tpt ngonya daly ECOLE MOHAMMADIA D’INGENIEURS =/ \\ Seatgigroll Aitgoroll dit ytgoll Service de Scolarité ATTESTATION DE SCOLARITE La Responsable du Service de Scolarité de I'Ecole Mohammadia d'Ingénieurs atteste que : 'étudiant(e) -REGUI Khalid né(e) le: 20/03/2002 a ERRACHIDIA est inscrit(e) a l'E.M.| sous le matricule: 2250008 en 2éme année GENIE MODELISATION ET INFORMATIQUE SCIENTIFIQUE pour l'année universitaire 2023 /2024 La présente attestation est délivrée a la demande de I'intéressé(e) pour servir et valoir ce que de droit. 19 WN 2024 Rabat, le 08/09/2023 N.B : Cette attestation est établie en un exemplaire. Aucune autre attestation ne sera délivrée pour l'année académique en cours.\n"
     ]
    }
   ],
   "source": [
    "doc1_content = relevant_docs[0].page_content.replace('\\r', ' ').replace('\\n', ' ')\n",
    "doc2_content = relevant_docs[1].page_content.replace('\\r', ' ').replace('\\n', ' ')\n",
    "doc3_content = relevant_docs[2].page_content.replace('\\r', ' ').replace('\\n', ' ')\n",
    "\n",
    "print(doc1_content)  \n",
    "print('-' * 150)  \n",
    "print(doc2_content)\n",
    "print('-' * 150)  \n",
    "print(doc3_content)"
   ]
  },
  {
   "cell_type": "markdown",
   "id": "fbd9d71f-d741-445b-8f21-95c874ff62a0",
   "metadata": {
    "jp-MarkdownHeadingCollapsed": true
   },
   "source": [
    "### 2. Creating a RAG Prompt\n",
    "\n",
    "Now we can set up a prompt template that will be used to provide the LLM with the necessary contexts, user query, and instructions!"
   ]
  },
  {
   "cell_type": "code",
   "execution_count": 12,
   "id": "80fefa8e-44e3-4d31-937f-4368c7ca8944",
   "metadata": {},
   "outputs": [],
   "source": [
    "from langchain.prompts import ChatPromptTemplate\n",
    "\n",
    "template=\"\"\"\n",
    "Vous êtes un Chatbot assistant chez le département RH de Saipem.\n",
    "vous aidez l'équipe de trouver des informations spécifiques sur des employés de Saipem. Toujours donnez une réponse précise et directe.\n",
    "Si vous ne connaissez pas la réponse, ne tentez pas d'inventer une réponse. Dites simplement que vous ne savez pas.\n",
    "\n",
    "Utilisez le contexte suivant pour répondre à la question:\n",
    "\n",
    "{context}\n",
    "\n",
    "Question :\n",
    "\n",
    "{question}\n",
    "\n",
    "Réponse utile :\n",
    "\"\"\"\n",
    "prompt = ChatPromptTemplate.from_template(template)"
   ]
  },
  {
   "cell_type": "markdown",
   "id": "6532eec2-855c-4aa6-a157-9ea56e4f69d4",
   "metadata": {},
   "source": [
    "### 3. Set up a QA Chain"
   ]
  },
  {
   "cell_type": "code",
   "execution_count": 14,
   "id": "0e8d0c9f-e428-4620-abec-47b9dc499632",
   "metadata": {},
   "outputs": [],
   "source": [
    "from operator import itemgetter\n",
    "\n",
    "from langchain_openai import ChatOpenAI\n",
    "from langchain.schema.output_parser import StrOutputParser\n",
    "from langchain.schema.runnable import RunnableLambda, RunnablePassthrough\n",
    "\n",
    "main_llm = ChatOpenAI(model_name=\"gpt-4o-mini\", temperature=0)\n",
    "\n",
    "retrieval_augmented_qa_chain = (\n",
    "    {\"context\": itemgetter(\"question\") | retriever, \"question\": itemgetter(\"question\")}\n",
    "    | RunnablePassthrough.assign(context=itemgetter(\"context\")) #This step ensures that the \"context\" value is properly assigned and available for use in the next step without modification.\n",
    "    | {\"response\": prompt | main_llm, \"context\": itemgetter(\"context\")}\n",
    ")"
   ]
  },
  {
   "cell_type": "markdown",
   "id": "e6bff0dd-35f6-4944-9cde-935d283656ff",
   "metadata": {
    "jp-MarkdownHeadingCollapsed": true
   },
   "source": [
    "#### Test if everything works"
   ]
  },
  {
   "cell_type": "code",
   "execution_count": 25,
   "id": "9a79cf7c-2aed-4c8f-bf60-4986b86713c9",
   "metadata": {},
   "outputs": [
    {
     "name": "stdout",
     "output_type": "stream",
     "text": [
      "{'response': AIMessage(content='Khalid Regui est né le 20 mars 2002.', response_metadata={'token_usage': {'completion_tokens': 15, 'prompt_tokens': 785, 'total_tokens': 800}, 'model_name': 'gpt-4o-mini-2024-07-18', 'system_fingerprint': 'fp_48196bc67a', 'finish_reason': 'stop', 'logprobs': None}, id='run-c89ecfeb-6142-4625-b806-78ffe9de7b20-0', usage_metadata={'input_tokens': 785, 'output_tokens': 15, 'total_tokens': 800}), 'context': [Document(metadata={'source': './data\\\\Rib_Khalid_Regui.pdf'}, page_content=\"Relevé d'Identité Bancaire\\r Intitulé du compte : KHALID REGUI\\r Agence du client : NADOR YOUSSEF IBN TACHFINE\\r Adresse de votre agence : ANGLE BD HASSAN 1ER ET RUE AL HAMRA NADOR\\r Téléphone de votre agence : 05 36 32 92 60\\r Code Banque Code Ville N° Compte Clé RIB\\r R.I.B. 230 500 3661789211027500 57\\r I.B.A.N. MA64 2305 0036 6178 9211 0275 0057\\r B.I.C / SWIFT CIHMMAMC\"), Document(metadata={'source': './data\\\\My_Resume.pdf'}, page_content=\"encore. De plus, j'ai donné des cours et des ateliers, et participé à diverses compétitions et\\r hackathons, où notre équipe a remporté plusieurs prix.\\r Je suis un data scientist passionné, avec une solide formation en mathématiques, en informatique, en\\r analyse des données et en machine learning. Avec une expérience dans plusieurs projets de science des\\r données, ma valeur est l'excellence. Ma motivation est d'exploiter la puissance des données pour\\r résoudre efficacement des problèmes complexes.\\r KHALID REGUI\\r Adresse :\\r Téléphone :\\r Email :\\r Site web :\\r Av. Ibn Sina, Rabat\\r 0701111688\\r kh.regui@gmail.com\\r www.regui.online\\r Baccalauréat en Mathématiques 2020\\r Lycée Abdelkrim El Khattabi\\r Certificat par Maharat Google : Fondamentaux du\"), Document(metadata={'source': './data\\\\Attestation de scolarite Regui.pdf'}, page_content=\"UNIVERSITE MOHAMMED V DE RABAT\\n\\\\\\\\ Lolaylly tpt ngonya daly ECOLE MOHAMMADIA D’INGENIEURS =/ \\\\ Seatgigroll Aitgoroll dit ytgoll\\nService de Scolarité\\nATTESTATION DE SCOLARITE\\nLa Responsable du Service de Scolarité de I'Ecole Mohammadia d'Ingénieurs atteste que :\\n'étudiant(e) -REGUI Khalid né(e) le: 20/03/2002 a ERRACHIDIA\\nest inscrit(e) a l'E.M.| sous le matricule: 2250008\\nen 2éme année GENIE MODELISATION ET INFORMATIQUE SCIENTIFIQUE\\npour l'année universitaire 2023 /2024\\nLa présente attestation est délivrée a la demande de I'intéressé(e) pour servir et valoir ce que de droit.\\n19 WN 2024\\nRabat, le 08/09/2023\\nN.B : Cette attestation est établie en un exemplaire. Aucune autre attestation ne sera délivrée pour l'année académique en cours.\")]}\n"
     ]
    }
   ],
   "source": [
    "question = \"Quelle est la date de naissance de Khalid Regui ?\"\n",
    "result = retrieval_augmented_qa_chain.invoke({\"question\" : question})\n",
    "print(result)"
   ]
  },
  {
   "cell_type": "markdown",
   "id": "0fbd0fcb-6b26-4451-982a-1b2173311448",
   "metadata": {
    "jp-MarkdownHeadingCollapsed": true
   },
   "source": [
    "#### This part show how we can parse the output of chain to obtain just the essential result"
   ]
  },
  {
   "cell_type": "code",
   "execution_count": 25,
   "id": "7ac606fa-2310-4dfe-8926-fc8859c18052",
   "metadata": {},
   "outputs": [],
   "source": [
    "def OutputParser(result):\n",
    "    response = result['response'].content\n",
    "    context = [f'Context {i+1} : {doc.page_content.replace('\\r', ' ')}' for i, doc in enumerate(result['context'])]\n",
    "    context = \"\\n\\n\".join(context)\n",
    "    return {\n",
    "            'response': response,\n",
    "            'context': context\n",
    "    }"
   ]
  },
  {
   "cell_type": "code",
   "execution_count": 26,
   "id": "39429e5f-cb3b-4584-8cbc-e4f3dcfae911",
   "metadata": {},
   "outputs": [],
   "source": [
    "from operator import itemgetter\n",
    "\n",
    "from langchain_openai import ChatOpenAI\n",
    "from langchain.schema.output_parser import StrOutputParser\n",
    "from langchain.schema.runnable import RunnableLambda, RunnablePassthrough\n",
    "\n",
    "main_llm = ChatOpenAI(model_name=\"gpt-4o-mini\", temperature=0)\n",
    "\n",
    "retrieval_augmented_qa_chain = (\n",
    "    {\"context\": itemgetter(\"question\") | retriever, \"question\": itemgetter(\"question\")}\n",
    "    | RunnablePassthrough.assign(context=itemgetter(\"context\")) #This step ensures that the \"context\" value is properly assigned and available for use in the next step without modification.\n",
    "    | {\"response\": prompt | main_llm, \"context\": itemgetter(\"context\")}\n",
    "    | OutputParser\n",
    ") "
   ]
  },
  {
   "cell_type": "code",
   "execution_count": 27,
   "id": "33f61c3b-68c9-4197-bed5-4aab77408481",
   "metadata": {},
   "outputs": [],
   "source": [
    "question = \"Quelle est la date de naissance de Khalid Regui ?\"\n",
    "result = retrieval_augmented_qa_chain.invoke({\"question\" : question})"
   ]
  },
  {
   "cell_type": "code",
   "execution_count": 28,
   "id": "b9d34b0f-4b5b-4c67-b485-0efabdd0d45d",
   "metadata": {},
   "outputs": [
    {
     "data": {
      "text/plain": [
       "{'response': 'La date de naissance de Khalid Regui est le 20 mars 2002.',\n",
       " 'context': \"Context 1 : Relevé d'Identité Bancaire  Intitulé du compte : KHALID REGUI  Agence du client : NADOR YOUSSEF IBN TACHFINE  Adresse de votre agence : ANGLE BD HASSAN 1ER ET RUE AL HAMRA NADOR  Téléphone de votre agence : 05 36 32 92 60  Code Banque Code Ville N° Compte Clé RIB  R.I.B. 230 500 3661789211027500 57  I.B.A.N. MA64 2305 0036 6178 9211 0275 0057  B.I.C / SWIFT CIHMMAMC\\n\\nContext 2 : encore. De plus, j'ai donné des cours et des ateliers, et participé à diverses compétitions et  hackathons, où notre équipe a remporté plusieurs prix.  Je suis un data scientist passionné, avec une solide formation en mathématiques, en informatique, en  analyse des données et en machine learning. Avec une expérience dans plusieurs projets de science des  données, ma valeur est l'excellence. Ma motivation est d'exploiter la puissance des données pour  résoudre efficacement des problèmes complexes.  KHALID REGUI  Adresse :  Téléphone :  Email :  Site web :  Av. Ibn Sina, Rabat  0701111688  kh.regui@gmail.com  www.regui.online  Baccalauréat en Mathématiques 2020  Lycée Abdelkrim El Khattabi  Certificat par Maharat Google : Fondamentaux du\\n\\nContext 3 : UNIVERSITE MOHAMMED V DE RABAT\\n\\\\\\\\ Lolaylly tpt ngonya daly ECOLE MOHAMMADIA D’INGENIEURS =/ \\\\ Seatgigroll Aitgoroll dit ytgoll\\nService de Scolarité\\nATTESTATION DE SCOLARITE\\nLa Responsable du Service de Scolarité de I'Ecole Mohammadia d'Ingénieurs atteste que :\\n'étudiant(e) -REGUI Khalid né(e) le: 20/03/2002 a ERRACHIDIA\\nest inscrit(e) a l'E.M.| sous le matricule: 2250008\\nen 2éme année GENIE MODELISATION ET INFORMATIQUE SCIENTIFIQUE\\npour l'année universitaire 2023 /2024\\nLa présente attestation est délivrée a la demande de I'intéressé(e) pour servir et valoir ce que de droit.\\n19 WN 2024\\nRabat, le 08/09/2023\\nN.B : Cette attestation est établie en un exemplaire. Aucune autre attestation ne sera délivrée pour l'année académique en cours.\"}"
      ]
     },
     "execution_count": 28,
     "metadata": {},
     "output_type": "execute_result"
    }
   ],
   "source": [
    "result"
   ]
  },
  {
   "cell_type": "code",
   "execution_count": 29,
   "id": "3310576c-ba3c-4d12-9dd8-084fc8d6e338",
   "metadata": {},
   "outputs": [
    {
     "name": "stdout",
     "output_type": "stream",
     "text": [
      "response  : \n",
      "La date de naissance de Khalid Regui est le 20 mars 2002. \n",
      "\n",
      "context  : \n",
      "Context 1 : Relevé d'Identité Bancaire  Intitulé du compte : KHALID REGUI  Agence du client : NADOR YOUSSEF IBN TACHFINE  Adresse de votre agence : ANGLE BD HASSAN 1ER ET RUE AL HAMRA NADOR  Téléphone de votre agence : 05 36 32 92 60  Code Banque Code Ville N° Compte Clé RIB  R.I.B. 230 500 3661789211027500 57  I.B.A.N. MA64 2305 0036 6178 9211 0275 0057  B.I.C / SWIFT CIHMMAMC\n",
      "\n",
      "Context 2 : encore. De plus, j'ai donné des cours et des ateliers, et participé à diverses compétitions et  hackathons, où notre équipe a remporté plusieurs prix.  Je suis un data scientist passionné, avec une solide formation en mathématiques, en informatique, en  analyse des données et en machine learning. Avec une expérience dans plusieurs projets de science des  données, ma valeur est l'excellence. Ma motivation est d'exploiter la puissance des données pour  résoudre efficacement des problèmes complexes.  KHALID REGUI  Adresse :  Téléphone :  Email :  Site web :  Av. Ibn Sina, Rabat  0701111688  kh.regui@gmail.com  www.regui.online  Baccalauréat en Mathématiques 2020  Lycée Abdelkrim El Khattabi  Certificat par Maharat Google : Fondamentaux du\n",
      "\n",
      "Context 3 : UNIVERSITE MOHAMMED V DE RABAT\n",
      "\\\\ Lolaylly tpt ngonya daly ECOLE MOHAMMADIA D’INGENIEURS =/ \\ Seatgigroll Aitgoroll dit ytgoll\n",
      "Service de Scolarité\n",
      "ATTESTATION DE SCOLARITE\n",
      "La Responsable du Service de Scolarité de I'Ecole Mohammadia d'Ingénieurs atteste que :\n",
      "'étudiant(e) -REGUI Khalid né(e) le: 20/03/2002 a ERRACHIDIA\n",
      "est inscrit(e) a l'E.M.| sous le matricule: 2250008\n",
      "en 2éme année GENIE MODELISATION ET INFORMATIQUE SCIENTIFIQUE\n",
      "pour l'année universitaire 2023 /2024\n",
      "La présente attestation est délivrée a la demande de I'intéressé(e) pour servir et valoir ce que de droit.\n",
      "19 WN 2024\n",
      "Rabat, le 08/09/2023\n",
      "N.B : Cette attestation est établie en un exemplaire. Aucune autre attestation ne sera délivrée pour l'année académique en cours. \n",
      "\n"
     ]
    }
   ],
   "source": [
    "for k, v in result.items():\n",
    "    print(k,' : ')\n",
    "    print(v, '\\n')"
   ]
  },
  {
   "cell_type": "markdown",
   "id": "1a688336-ea30-40fe-ac35-c9558562aa03",
   "metadata": {},
   "source": [
    "### 4. Create a Ground Truth Dataset\n",
    "\n",
    "we will use LangChain to create questions based on our contexts, and then answer those questions."
   ]
  },
  {
   "cell_type": "markdown",
   "id": "adcc98b8-ef39-418f-98f6-be1f5c4622f1",
   "metadata": {
    "jp-MarkdownHeadingCollapsed": true
   },
   "source": [
    "#### Create format instructions"
   ]
  },
  {
   "cell_type": "code",
   "execution_count": 32,
   "id": "7186dd4c-d9ee-43de-b109-c71fc22574ed",
   "metadata": {},
   "outputs": [
    {
     "name": "stdout",
     "output_type": "stream",
     "text": [
      "The output should be a markdown code snippet formatted in the following schema, including the leading and trailing \"```json\" and \"```\":\n",
      "\n",
      "```json\n",
      "{\n",
      "\t\"question\": string  // a question about the context.\n",
      "}\n",
      "```\n"
     ]
    }
   ],
   "source": [
    "from langchain.output_parsers import ResponseSchema\n",
    "from langchain.output_parsers import StructuredOutputParser\n",
    "\n",
    "question_schema = ResponseSchema(\n",
    "    name=\"question\",\n",
    "    description=\"a question about the context.\"\n",
    ")\n",
    "\n",
    "question_response_schemas = [\n",
    "    question_schema,\n",
    "]\n",
    "\n",
    "question_output_parser = StructuredOutputParser.from_response_schemas(question_response_schemas)\n",
    "format_instructions = question_output_parser.get_format_instructions()\n",
    "print(format_instructions)"
   ]
  },
  {
   "cell_type": "markdown",
   "id": "53faa2a0-5597-4970-a5a9-1efbb4dbde66",
   "metadata": {
    "jp-MarkdownHeadingCollapsed": true
   },
   "source": [
    "#### Create question generation chain"
   ]
  },
  {
   "cell_type": "code",
   "execution_count": 43,
   "id": "3a312a9b-9e5d-4176-9d07-e493be1fb0f8",
   "metadata": {},
   "outputs": [
    {
     "name": "stdout",
     "output_type": "stream",
     "text": [
      "\n",
      "Vous êtes un président des ressources humaines créant un test pour recueillir des informations sur un employé de l'entreprise nommé Khalid Regui. Pour chaque contexte, créez une question spécifique sur Khalid Regui dont la réponse peut être trouvée dans le contexte donné. Évitez de créer des questions génériques ou générales.\n",
      "\n",
      "question: a question about the context.\n",
      "\n",
      "Formatez la sortie en JSON avec les clés suivantes :\n",
      "question\n",
      "\n",
      "contexte : Relevé d'Identité Bancaire  Intitulé du compte : KHALID REGUI  Agence du client : NADOR YOUSSEF IBN TACHFINE  Adresse de votre agence : ANGLE BD HASSAN 1ER ET RUE AL HAMRA NADOR  Téléphone de votre agence : 05 36 32 92 60  Code Banque Code Ville N° Compte Clé RIB  R.I.B. 230 500 3661789211027500 57  I.B.A.N. MA64 2305 0036 6178 9211 0275 0057  B.I.C / SWIFT CIHMMAMC\n",
      "\n"
     ]
    }
   ],
   "source": [
    "from langchain.prompts import ChatPromptTemplate\n",
    "\n",
    "qa_template = \"\"\"\n",
    "Vous êtes un président des ressources humaines créant un test pour recueillir des informations sur un employé de l'entreprise nommé Khalid Regui. Pour chaque contexte, créez une question spécifique sur Khalid Regui dont la réponse peut être trouvée dans le contexte donné. Évitez de créer des questions génériques ou générales.\n",
    "\n",
    "Formatez la sortie en JSON avec les clés suivantes :\n",
    "question\n",
    "\n",
    "contexte : {context}\n",
    "\"\"\"\n",
    "\n",
    "prompt_template = ChatPromptTemplate.from_template(template=qa_template)\n",
    "\n",
    "messages = prompt_template.format_messages(\n",
    "    context=doc1_content,\n",
    "    format_instructions=format_instructions\n",
    ")\n",
    "\n",
    "print(messages[0].content)"
   ]
  },
  {
   "cell_type": "code",
   "execution_count": 44,
   "id": "b3467dfa-60c9-463f-b673-40ccddbae334",
   "metadata": {},
   "outputs": [],
   "source": [
    "question_generation_llm = ChatOpenAI(model=\"gpt-4o-mini\")\n",
    "\n",
    "bare_prompt_template = \"{content}\"\n",
    "bare_template = ChatPromptTemplate.from_template(template=bare_prompt_template)\n",
    "\n",
    "question_generation_chain = bare_template | question_generation_llm"
   ]
  },
  {
   "cell_type": "markdown",
   "id": "2eedaadb-67fb-44bb-8559-c800d572f332",
   "metadata": {
    "jp-MarkdownHeadingCollapsed": true
   },
   "source": [
    "#### Test if everything works"
   ]
  },
  {
   "cell_type": "code",
   "execution_count": 45,
   "id": "b042428b-c433-4ff4-897c-93cc881b1607",
   "metadata": {},
   "outputs": [],
   "source": [
    "response = question_generation_chain.invoke({\"content\" : messages})\n",
    "output_dict = question_output_parser.parse(response.content)"
   ]
  },
  {
   "cell_type": "code",
   "execution_count": 50,
   "id": "27cba36d-3e52-4ffd-8437-b6aa3f11d5dd",
   "metadata": {},
   "outputs": [
    {
     "name": "stdout",
     "output_type": "stream",
     "text": [
      "```json\n",
      "{\n",
      "  \"question\": \"Quel est le nom du titulaire du compte bancaire associé au relevé d'identité bancaire ?\"\n",
      "}\n",
      "```\n"
     ]
    }
   ],
   "source": [
    "print(response.content)"
   ]
  },
  {
   "cell_type": "code",
   "execution_count": 51,
   "id": "5cf4e7cb-e46a-4fc3-a392-d6eceb7ab960",
   "metadata": {},
   "outputs": [
    {
     "name": "stdout",
     "output_type": "stream",
     "text": [
      "{'question': \"Quel est le nom du titulaire du compte bancaire associé au relevé d'identité bancaire ?\"}\n"
     ]
    }
   ],
   "source": [
    "print(output_dict)"
   ]
  },
  {
   "cell_type": "markdown",
   "id": "2af83c78-fe5f-45c5-827a-0605449c5831",
   "metadata": {
    "jp-MarkdownHeadingCollapsed": true
   },
   "source": [
    "#### Import 10 chunks from Pinecone to generate questions"
   ]
  },
  {
   "cell_type": "code",
   "execution_count": 64,
   "id": "893a7a98-1b9f-4b85-a2b8-12d655c37589",
   "metadata": {},
   "outputs": [],
   "source": [
    "# List of document IDs\n",
    "ids = [\n",
    "    '24e2b4b5-01c9-4e9d-be2a-ea9c6bbfbd41',\n",
    "    '172045a6-a42e-4546-b944-6e61e7e04dd6',\n",
    "    '32871e7c-12bf-466b-be27-4da57d799309',\n",
    "    '708c5494-d3cf-4a96-98f0-5e78317426a9',\n",
    "    '8262ab18-c47a-43a7-b715-7d6e231dbda5',\n",
    "    '1147a676-06c9-492b-91dd-f626672c19f4',\n",
    "    'ca85f958-549a-4646-bdd6-e85b17e8584d',\n",
    "    '9196f829-796a-49dc-a01e-46e85cc14685',\n",
    "    'bc29d424-ea11-4b06-b65a-879c3796e2ff',\n",
    "    '78c6213d-2659-4bc9-af2e-c9eae9049b28'\n",
    "]\n",
    "\n",
    "# Fetch the documents\n",
    "results = index.fetch(ids)"
   ]
  },
  {
   "cell_type": "code",
   "execution_count": 65,
   "id": "729fa155-a794-46a5-8394-0995d5885ff8",
   "metadata": {},
   "outputs": [
    {
     "data": {
      "text/plain": [
       "{'source': './data\\\\CONTRACT-REGUI-KHALID-20240624103916.pdf',\n",
       " 'text': 'au titre de la loi n°43-05 relative à la lutte \\r contre le blanchiment de capitaux.\\r CLAUSE « PROTECTION DES DONNEES A CARACTERE PERSONNEL »\\r RECEPTION DES CONDITIONS GENERALES\\r « Les données personnelles demandées par l’assureur ont un caractère obligatoire pour obtenir la souscription du présent contrat et \\r l’exécution de l’ensemble des services qui y sont rattachés. Elles sont utilisées exclusivement à cette fin par les services de l’assureur et les \\r tiers autorisés.\\r La durée de conservation de ces données est limitée à la durée du contrat d’assurance et à la période postérieure pendant laquelle leur \\r conservation est nécessaire pour permettre à l’assureur de respecter ses obligations en fonction des délais de prescription ou en'}"
      ]
     },
     "execution_count": 65,
     "metadata": {},
     "output_type": "execute_result"
    }
   ],
   "source": [
    "docs = [doc.metadata for doc in results['vectors'].values()]\n",
    "docs[0]"
   ]
  },
  {
   "cell_type": "markdown",
   "id": "d26bc125-d59e-41f1-97d9-bd460eb88129",
   "metadata": {
    "jp-MarkdownHeadingCollapsed": true
   },
   "source": [
    "#### Generate questions based on contexts (chunks)"
   ]
  },
  {
   "cell_type": "code",
   "execution_count": 66,
   "id": "a829d862-d1d9-42d6-bffe-1ad48dab285d",
   "metadata": {},
   "outputs": [
    {
     "name": "stderr",
     "output_type": "stream",
     "text": [
      "100%|██████████████████████████████████████████████████████████████████████████████████| 10/10 [00:11<00:00,  1.15s/it]\n"
     ]
    }
   ],
   "source": [
    "from tqdm import tqdm\n",
    "\n",
    "qac_triples = []\n",
    "\n",
    "for text in tqdm(docs[:10]):\n",
    "    messages = prompt_template.format_messages(\n",
    "      context=text,\n",
    "      format_instructions=format_instructions\n",
    "    )\n",
    "    response = question_generation_chain.invoke({\"content\" : messages})\n",
    "    try:\n",
    "        output_dict = question_output_parser.parse(response.content)\n",
    "    except Exception as e:\n",
    "        continue\n",
    "    output_dict[\"context\"] = text\n",
    "    qac_triples.append(output_dict)"
   ]
  },
  {
   "cell_type": "code",
   "execution_count": 67,
   "id": "ff47cd5f-ddd1-49c3-b944-5124a695035e",
   "metadata": {},
   "outputs": [
    {
     "data": {
      "text/plain": [
       "{'question': 'Quelles sont les obligations légales que les personnes habilitées à traiter les données personnelles doivent connaître selon le contrat de Khalid Regui?',\n",
       " 'context': {'source': './data\\\\CONTRACT-REGUI-KHALID-20240624103916.pdf',\n",
       "  'text': 'de telle sorte que leur accès soit \\r impossible à des tiers non autorisés. \\r L’assureur s’assure que les personnes habilitées à traiter les données personnelles connaissent leurs obligations légales en matière de \\r protection de ces données et s’y tiennent. \\r Les données à caractère personnel peuvent à tout moment faire l’objet d’un droit d’accès, de modification, de rectification et d’opposition \\r auprès du département commercial d’AXA Assistance Maroc sis au 128 boulevard Lahcen Ou Idder, Casablanca 20490 Tél. : 05 22 46 46 61.\\r De manière expresse, l’assuré/souscripteur autorise l’assureur à utiliser ses coordonnées à des fins de prospections commerciales en vue de \\r proposer d’autres services d’assurance. Il peut s’opposer par courrier'}}"
      ]
     },
     "execution_count": 67,
     "metadata": {},
     "output_type": "execute_result"
    }
   ],
   "source": [
    "qac_triples[5]"
   ]
  },
  {
   "cell_type": "markdown",
   "id": "56a3bda1-f53d-4633-bdc6-91d3f249bd67",
   "metadata": {
    "jp-MarkdownHeadingCollapsed": true
   },
   "source": [
    "#### Create chain to generate answers (ground truth)"
   ]
  },
  {
   "cell_type": "code",
   "execution_count": 105,
   "id": "96a2688c-a330-4957-82a6-f7e536dbf78f",
   "metadata": {},
   "outputs": [],
   "source": [
    "answer_generation_llm = ChatOpenAI(model=\"gpt-4o\", temperature=0)\n",
    "\n",
    "answer_schema = ResponseSchema(\n",
    "    name=\"answer\",\n",
    "    description=\"an answer to the question\"\n",
    ")\n",
    "\n",
    "answer_response_schemas = [\n",
    "    answer_schema,\n",
    "]\n",
    "\n",
    "answer_output_parser = StructuredOutputParser.from_response_schemas(answer_response_schemas)\n",
    "format_instructions = answer_output_parser.get_format_instructions()\n",
    "\n",
    "qa_template = \"\"\"\n",
    "Vous êtes un président des ressources humaines créant un test pour recueillir des informations sur un employé de l'entreprise nommé Khalid Regui. Pour chaque question et contexte, créez une reponse.\n",
    "\n",
    "Formatez la sortie en JSON avec les clés suivantes :\n",
    "answer\n",
    "\n",
    "question: {question}\n",
    "contexte: {context}\n",
    "\"\"\"\n",
    "\n",
    "prompt_template = ChatPromptTemplate.from_template(template=qa_template)\n",
    "\n",
    "messages = prompt_template.format_messages(\n",
    "    context=qac_triples[0][\"context\"],\n",
    "    question=qac_triples[0][\"question\"],\n",
    "    format_instructions=format_instructions\n",
    ")\n",
    "\n",
    "answer_generation_chain = bare_template | answer_generation_llm\n",
    "\n",
    "response = answer_generation_chain.invoke({\"content\" : messages})\n",
    "output_dict = answer_output_parser.parse(response.content)"
   ]
  },
  {
   "cell_type": "code",
   "execution_count": 106,
   "id": "c27a9f67-12bf-4912-a685-a909525b9e2c",
   "metadata": {},
   "outputs": [
    {
     "name": "stdout",
     "output_type": "stream",
     "text": [
      "answer\n",
      "Les données personnelles demandées par l'assureur pour Khalid Regui dans le cadre de son contrat d'assurance incluent toutes les informations nécessaires pour obtenir la souscription du contrat et pour l'exécution des services y afférents. Ces données sont utilisées exclusivement à cette fin par les services de l'assureur et les tiers autorisés. La durée de conservation de ces données est limitée à la durée du contrat d'assurance et à la période nécessaire postérieure pour permettre à l'assureur de respecter ses obligations légales et réglementaires.\n"
     ]
    }
   ],
   "source": [
    "for k, v in output_dict.items():\n",
    "  print(k)\n",
    "  print(v)"
   ]
  },
  {
   "cell_type": "markdown",
   "id": "12877b67-5118-4534-b5d6-b6ed0f66335e",
   "metadata": {},
   "source": [
    "#### Create a ground truth dataset and save it to `groundtruth_eval_dataset.csv`"
   ]
  },
  {
   "cell_type": "code",
   "execution_count": 71,
   "id": "eedae905-aa0e-4422-b126-9310f08ddae5",
   "metadata": {},
   "outputs": [
    {
     "name": "stderr",
     "output_type": "stream",
     "text": [
      "100%|██████████████████████████████████████████████████████████████████████████████████| 10/10 [00:48<00:00,  4.81s/it]\n"
     ]
    }
   ],
   "source": [
    "for triple in tqdm(qac_triples):\n",
    "  messages = prompt_template.format_messages(\n",
    "      context=triple[\"context\"],\n",
    "      question=triple[\"question\"],\n",
    "      format_instructions=format_instructions\n",
    "  )\n",
    "  response = answer_generation_chain.invoke({\"content\" : messages})\n",
    "  try:\n",
    "    output_dict = answer_output_parser.parse(response.content)\n",
    "  except Exception as e:\n",
    "    continue\n",
    "  triple[\"answer\"] = output_dict[\"answer\"]"
   ]
  },
  {
   "cell_type": "code",
   "execution_count": 74,
   "id": "105e0950-b665-4bab-8b7c-5eee59328472",
   "metadata": {},
   "outputs": [],
   "source": [
    "import pandas as pd\n",
    "from datasets import Dataset\n",
    "\n",
    "ground_truth_qac_set = pd.DataFrame(qac_triples)\n",
    "ground_truth_qac_set[\"context\"] = ground_truth_qac_set[\"context\"].map(lambda x: str(x[\"text\"]))\n",
    "ground_truth_qac_set = ground_truth_qac_set.rename(columns={\"answer\" : \"ground_truth\"})\n",
    "\n",
    "\n",
    "eval_dataset = Dataset.from_pandas(ground_truth_qac_set)"
   ]
  },
  {
   "cell_type": "code",
   "execution_count": 75,
   "id": "f10e474c-24bf-489e-81ff-dbf500dc7f61",
   "metadata": {},
   "outputs": [
    {
     "data": {
      "text/plain": [
       "Dataset({\n",
       "    features: ['question', 'context', 'ground_truth'],\n",
       "    num_rows: 10\n",
       "})"
      ]
     },
     "execution_count": 75,
     "metadata": {},
     "output_type": "execute_result"
    }
   ],
   "source": [
    "eval_dataset"
   ]
  },
  {
   "cell_type": "code",
   "execution_count": 76,
   "id": "030af958-c461-42e9-9727-977aab39989a",
   "metadata": {},
   "outputs": [
    {
     "data": {
      "text/plain": [
       "{'question': \"Quelles sont les données personnelles demandées par l'assureur pour Khalid Regui dans le cadre de son contrat d'assurance ?\",\n",
       " 'context': 'au titre de la loi n°43-05 relative à la lutte \\r contre le blanchiment de capitaux.\\r CLAUSE « PROTECTION DES DONNEES A CARACTERE PERSONNEL »\\r RECEPTION DES CONDITIONS GENERALES\\r « Les données personnelles demandées par l’assureur ont un caractère obligatoire pour obtenir la souscription du présent contrat et \\r l’exécution de l’ensemble des services qui y sont rattachés. Elles sont utilisées exclusivement à cette fin par les services de l’assureur et les \\r tiers autorisés.\\r La durée de conservation de ces données est limitée à la durée du contrat d’assurance et à la période postérieure pendant laquelle leur \\r conservation est nécessaire pour permettre à l’assureur de respecter ses obligations en fonction des délais de prescription ou en',\n",
       " 'ground_truth': \"Les données personnelles demandées par l'assureur pour Khalid Regui dans le cadre de son contrat d'assurance sont des informations obligatoires pour obtenir la souscription du contrat et pour l'exécution des services y afférents. Ces données sont utilisées exclusivement à cette fin par les services de l'assureur et les tiers autorisés. La durée de conservation de ces données est limitée à la durée du contrat d'assurance et à la période nécessaire postérieure pour permettre à l'assureur de respecter ses obligations légales et réglementaires.\"}"
      ]
     },
     "execution_count": 76,
     "metadata": {},
     "output_type": "execute_result"
    }
   ],
   "source": [
    "eval_dataset[0]"
   ]
  },
  {
   "cell_type": "code",
   "execution_count": 77,
   "id": "a6e7431d-4264-4ace-9378-873e301d4de3",
   "metadata": {},
   "outputs": [
    {
     "data": {
      "application/vnd.jupyter.widget-view+json": {
       "model_id": "a58e4408f9804cd58d93a8dcd93db728",
       "version_major": 2,
       "version_minor": 0
      },
      "text/plain": [
       "Creating CSV from Arrow format:   0%|          | 0/1 [00:00<?, ?ba/s]"
      ]
     },
     "metadata": {},
     "output_type": "display_data"
    },
    {
     "data": {
      "text/plain": [
       "11148"
      ]
     },
     "execution_count": 77,
     "metadata": {},
     "output_type": "execute_result"
    }
   ],
   "source": [
    "eval_dataset.to_csv(\"groundtruth_eval_dataset.csv\")"
   ]
  },
  {
   "cell_type": "markdown",
   "id": "e0953d0c-5bda-462d-a863-ab4887fe0a31",
   "metadata": {},
   "source": [
    "**How to load data after saving it**"
   ]
  },
  {
   "cell_type": "code",
   "execution_count": 79,
   "id": "417fb133-d515-4b43-ab34-7d9e6469a599",
   "metadata": {},
   "outputs": [],
   "source": [
    "# from datasets import Dataset\n",
    "# eval_dataset = Dataset.from_csv(\"groundtruth_eval_dataset.csv\")\n",
    "# eval_dataset"
   ]
  },
  {
   "cell_type": "markdown",
   "id": "a738c8bf-dc69-428f-a77a-bb5f3b47a558",
   "metadata": {},
   "source": [
    "### 5. Create the finale dataset for evaluation"
   ]
  },
  {
   "cell_type": "code",
   "execution_count": 19,
   "id": "132a147a-aae5-4918-80e1-69216514fc8a",
   "metadata": {},
   "outputs": [],
   "source": [
    "def create_ragas_dataset(rag_pipeline, eval_dataset):\n",
    "  rag_dataset = []\n",
    "  for row in tqdm(eval_dataset):\n",
    "    answer = rag_pipeline.invoke({\"question\" : row[\"question\"]})\n",
    "    rag_dataset.append(\n",
    "        {\"question\" : row[\"question\"],\n",
    "         \"answer\" : answer[\"response\"].content,\n",
    "         \"contexts\" : [context.page_content for context in answer[\"context\"]],\n",
    "         \"ground_truths\" : [row[\"ground_truth\"]]\n",
    "         }\n",
    "    )\n",
    "  rag_df = pd.DataFrame(rag_dataset)\n",
    "  rag_eval_dataset = Dataset.from_pandas(rag_df)\n",
    "  return rag_eval_dataset"
   ]
  },
  {
   "cell_type": "code",
   "execution_count": null,
   "id": "03386245-01e4-456a-8869-679e07c94bed",
   "metadata": {},
   "outputs": [],
   "source": [
    "from tqdm import tqdm\n",
    "import pandas as pd\n",
    "\n",
    "basic_qa_ragas_dataset = create_ragas_dataset(retrieval_augmented_qa_chain, eval_dataset)"
   ]
  },
  {
   "cell_type": "code",
   "execution_count": 93,
   "id": "fcc2f3da-a955-4a5e-a0e2-8a453f0d416a",
   "metadata": {},
   "outputs": [
    {
     "data": {
      "text/plain": [
       "Dataset({\n",
       "    features: ['question', 'answer', 'contexts', 'ground_truths'],\n",
       "    num_rows: 10\n",
       "})"
      ]
     },
     "execution_count": 93,
     "metadata": {},
     "output_type": "execute_result"
    }
   ],
   "source": [
    "basic_qa_ragas_dataset"
   ]
  },
  {
   "cell_type": "code",
   "execution_count": 94,
   "id": "f1c2ef08-ca20-484c-9e6a-8a941a771a34",
   "metadata": {},
   "outputs": [
    {
     "data": {
      "text/plain": [
       "{'question': \"Quelles sont les données personnelles demandées par l'assureur pour Khalid Regui dans le cadre de son contrat d'assurance ?\",\n",
       " 'answer': 'Je ne sais pas.',\n",
       " 'contexts': [\"Relevé d'Identité Bancaire\\r Intitulé du compte : KHALID REGUI\\r Agence du client : NADOR YOUSSEF IBN TACHFINE\\r Adresse de votre agence : ANGLE BD HASSAN 1ER ET RUE AL HAMRA NADOR\\r Téléphone de votre agence : 05 36 32 92 60\\r Code Banque Code Ville N° Compte Clé RIB\\r R.I.B. 230 500 3661789211027500 57\\r I.B.A.N. MA64 2305 0036 6178 9211 0275 0057\\r B.I.C / SWIFT CIHMMAMC\",\n",
       "  'au titre de la loi n°43-05 relative à la lutte \\r contre le blanchiment de capitaux.\\r CLAUSE « PROTECTION DES DONNEES A CARACTERE PERSONNEL »\\r RECEPTION DES CONDITIONS GENERALES\\r « Les données personnelles demandées par l’assureur ont un caractère obligatoire pour obtenir la souscription du présent contrat et \\r l’exécution de l’ensemble des services qui y sont rattachés. Elles sont utilisées exclusivement à cette fin par les services de l’assureur et les \\r tiers autorisés.\\r La durée de conservation de ces données est limitée à la durée du contrat d’assurance et à la période postérieure pendant laquelle leur \\r conservation est nécessaire pour permettre à l’assureur de respecter ses obligations en fonction des délais de prescription ou en',\n",
       "  'par l’assuré. \\r Cette attestation est valable sous réserve du paiement de la prime correspondante à la période de \\r couverture et que la preuve en ait été fournie. \\r Fait pour servir et valoir ce que de droit. \\r Fait à , Le \\r Directeur Général\\r KHALID REGUI; \\r Ma00045445\\r ASSURANCE AZIRAR\\r 24/06/2024 24/06/2025\\r NADOR 24/06/2024\\r 1043\\r ASSURANCE AZIRAR AXA Assistance Maroc S.A\\r Entreprise régie par la loi 17-99 portant code des assurances\\r AXA Assistance Maroc S.A. \\r Entreprise régie par la loi 17-99 portant code des assurances,\\r 128, boulevard Lahcen Ou Idder - Casablanca 20490 – Maroc /\\r Tél. : + 212 (0) 522 54 23 23 - Fax : + 212 (0) 522 54 21 21\\r Capital social : 71 073 911,00 DHS dirhams - R.C. : 93081 - Patente : 33450387 - I.F. :'],\n",
       " 'ground_truths': [\"Les données personnelles demandées par l'assureur pour Khalid Regui dans le cadre de son contrat d'assurance sont des informations obligatoires pour obtenir la souscription du contrat et pour l'exécution des services y afférents. Ces données sont utilisées exclusivement à cette fin par les services de l'assureur et les tiers autorisés. La durée de conservation de ces données est limitée à la durée du contrat d'assurance et à la période nécessaire postérieure pour permettre à l'assureur de respecter ses obligations légales et réglementaires.\"]}"
      ]
     },
     "execution_count": 94,
     "metadata": {},
     "output_type": "execute_result"
    }
   ],
   "source": [
    "basic_qa_ragas_dataset[0]"
   ]
  },
  {
   "cell_type": "code",
   "execution_count": 95,
   "id": "8e1b8d9c-5d6a-469e-a335-ab87f52749d2",
   "metadata": {},
   "outputs": [
    {
     "data": {
      "application/vnd.jupyter.widget-view+json": {
       "model_id": "0d15f71b85da4c33a7eaf3adf7bc2ab3",
       "version_major": 2,
       "version_minor": 0
      },
      "text/plain": [
       "Creating CSV from Arrow format:   0%|          | 0/1 [00:00<?, ?ba/s]"
      ]
     },
     "metadata": {},
     "output_type": "display_data"
    },
    {
     "data": {
      "text/plain": [
       "24038"
      ]
     },
     "execution_count": 95,
     "metadata": {},
     "output_type": "execute_result"
    }
   ],
   "source": [
    "basic_qa_ragas_dataset.to_csv(\"basic_qa_ragas_dataset.csv\")"
   ]
  },
  {
   "cell_type": "markdown",
   "id": "784e8e08-d99b-4f52-a1c8-86e1e26db2d7",
   "metadata": {
    "jp-MarkdownHeadingCollapsed": true
   },
   "source": [
    "## II. Evaluation Using [RAGAS](https://docs.ragas.io/en/stable/)"
   ]
  },
  {
   "cell_type": "markdown",
   "id": "292bea2e-8225-40f1-a993-ffd380d1491c",
   "metadata": {},
   "source": [
    "- Ragas provides several metrics to evaluate various aspects of your RAG systems:\n",
    "    1. **Retriever**: Offers context_precision and context_recall that measure the performance of your retrieval system.\n",
    "    2. **Generator (LLM)**: Provides faithfulness that measures hallucinations and answer_relevancy that measures how relevant the answers are to the question."
   ]
  },
  {
   "cell_type": "markdown",
   "id": "ceafe1f8-97d6-476c-8f38-6bcf603401d5",
   "metadata": {},
   "source": [
    "---\n",
    "\n",
    "1. **Faithfulness** - Measures the factual consistency of the answer to the context based on the question. ( It is calculated from answer and retrieved context.)\n",
    "$\n",
    "\\text{Faithfulness} = \\frac{\\text{Number of Claims Supported by Context}}{\\text{Total Number of Claims in the Answer}}\n",
    "$\n",
    "\n",
    "2. **Context_precision** - Measures how relevant the retrieved context is to the question, conveying the quality of the retrieval pipeline.\n",
    "(It evaluates whether all of the ground-truth relevant items present in the contexts are ranked higher or not. Ideally all the relevant chunks must appear at the top ranks. This metric is computed using the question, ground_truth and the contexts)\n",
    "$\n",
    "\\text{Context Precision} = \\frac{\\text{Number of Relevant Items in Top } K \\text{ Results}}{K}\n",
    "$\n",
    "\n",
    "$(\n",
    "\\text{Precision} = \\frac{\\text{True Positives}}{\\text{True Positives} + \\text{False Positives}}\n",
    ")$\n",
    "\n",
    "\n",
    "\n",
    "3. **Answer_relevancy** - Measures how relevant the answer is to the question. **(** The Answer Relevancy is defined as the mean cosine similarity of the original question to a number of artifical questions, which where generated (reverse engineered) based on the answer. The underlying idea is that if the generated answer accurately addresses the initial question, the LLM should be able to generate questions from the answer that align with the original question.**)**\n",
    "$\n",
    "\\text{Answer Relevance} = \\frac{1}{n} \\sum_{i=1}^{n} \\text{Cosine Similarity}(\\text{Original Question}, \\text{Artificial Question}_i)\n",
    "$\n",
    "\n",
    "5. **Context_recall** - Measures the retriever’s ability to retrieve all necessary information required to answer the question.\n",
    "$\\text{context recall} = {|\\text{GT claims that can be attributed to context}| \\over |\\text{Number of claims in GT}|}$ `        `\n",
    "$(\n",
    "\\text{Recall} = \\frac{\\text{True Positives}}{\\text{True Positives} + \\text{False Negatives}}\n",
    ")$\n",
    "\n",
    "5. **Answer Correctness** - The assessment of Answer Correctness involves gauging the accuracy of the generated answer when compared to the ground truth. This evaluation relies on the ground truth and the answer.\n",
    "    \n",
    "    factual similarity : Factual correctness quantifies the factual overlap between the generated answer and the ground truth answer. This is done using the concepts of:\n",
    "    - TP (True Positive): Facts or statements that are present in both the ground truth and the generated answer.\n",
    "    - FP (False Positive): Facts or statements that are present in the generated answer but not in the ground truth.\n",
    "    - FN (False Negative): Facts or statements that are present in the ground truth but not in the generated answer.\n",
    "    \n",
    "    then we calculate : $\\text{F1 Score} = {|\\text{TP} \\over {(|\\text{TP}| + 0.5 \\times (|\\text{FP}| + |\\text{FN}|))}}$\n",
    "    \n",
    "    finnaly we take a weighted average of the semantic similarity and the factual similarity to arrive at the final score.\n",
    "\n",
    "6. **Answer semantic similarity** : The concept of Answer Semantic Similarity pertains to the assessment of the semantic resemblance between the generated answer and the ground truth. (the cosine similarity )"
   ]
  },
  {
   "cell_type": "code",
   "execution_count": 45,
   "id": "4a4b19f4-00b4-48ab-9429-ecaf98b13f80",
   "metadata": {},
   "outputs": [],
   "source": [
    "from ragas.metrics import (\n",
    "    answer_relevancy, #how relevant the answers are to the question\n",
    "    faithfulness, #This measures the factual consistency of the generated answer against the given context.\n",
    "    context_recall, #performance of retrieval system\n",
    "    context_precision, #performance of retrieval system\n",
    "    answer_correctness, #the accuracy of the generated answer when compared to the ground truth\n",
    "    answer_similarity #the cosine similarity between the generated answer and the groud truth embeddings\n",
    ")\n",
    "\n",
    "from ragas.metrics.critique import harmfulness\n",
    "from ragas import evaluate\n",
    "\n",
    "\n",
    "def evaluate_ragas_dataset(ragas_dataset):\n",
    "  result = evaluate(\n",
    "    ragas_dataset,\n",
    "    metrics=[\n",
    "        context_precision,\n",
    "        faithfulness,\n",
    "        answer_relevancy,\n",
    "        context_recall,\n",
    "        answer_correctness,\n",
    "        answer_similarity\n",
    "    ],\n",
    "  )\n",
    "  return result"
   ]
  },
  {
   "cell_type": "code",
   "execution_count": 50,
   "id": "49fdffec-44c3-47b2-980c-8545a8168948",
   "metadata": {},
   "outputs": [
    {
     "data": {
      "application/vnd.jupyter.widget-view+json": {
       "model_id": "65f156e8ad0448549327e5c5cb8c0ad1",
       "version_major": 2,
       "version_minor": 0
      },
      "text/plain": [
       "Map:   0%|          | 0/10 [00:00<?, ? examples/s]"
      ]
     },
     "metadata": {},
     "output_type": "display_data"
    },
    {
     "data": {
      "application/vnd.jupyter.widget-view+json": {
       "model_id": "c3526af8ade14c1f9bbb1ec0b94cd63f",
       "version_major": 2,
       "version_minor": 0
      },
      "text/plain": [
       "Evaluating:   0%|          | 0/60 [00:00<?, ?it/s]"
      ]
     },
     "metadata": {},
     "output_type": "display_data"
    }
   ],
   "source": [
    "from datasets import Dataset\n",
    "\n",
    "basic_qa_ragas_dataset = Dataset.from_csv(\"basic_qa_ragas_dataset.csv\")\n",
    "\n",
    "basic_qa_ragas_dataset = basic_qa_ragas_dataset.rename_column('ground_truths', 'ground_truth')\n",
    "\n",
    "def convert_context_to_sequence(example):\n",
    "    example['contexts'] = [example['contexts']]\n",
    "    return example\n",
    "\n",
    "basic_qa_ragas_dataset = basic_qa_ragas_dataset.map(convert_context_to_sequence)\n",
    "\n",
    "basic_qa_result = evaluate_ragas_dataset(basic_qa_ragas_dataset)\n"
   ]
  },
  {
   "cell_type": "code",
   "execution_count": 51,
   "id": "1f6adfcb-ac67-46a7-a99c-ee8685539792",
   "metadata": {},
   "outputs": [
    {
     "data": {
      "text/plain": [
       "{'context_precision': 0.9000, 'faithfulness': 0.8500, 'answer_relevancy': 0.7358, 'context_recall': 0.8667, 'answer_correctness': 0.6242, 'answer_similarity': 0.9303}"
      ]
     },
     "execution_count": 51,
     "metadata": {},
     "output_type": "execute_result"
    }
   ],
   "source": [
    "basic_qa_result"
   ]
  },
  {
   "cell_type": "markdown",
   "id": "721ffd48-5c35-4d25-bc25-b8e9bf441738",
   "metadata": {},
   "source": [
    "- **Context Precision (0.7417):** \n",
    "  - **Interpretation:** The system ranks relevant information in the top positions about 74.17% of the time. This indicates good but not perfect precision in the ranking of relevant items.\n",
    "\n",
    "- **Faithfulness (0.8500):** \n",
    "  - **Interpretation:** 85.00% of the generated answers are consistent with the provided context, showing that the answers are mostly faithful to the information given.\n",
    "\n",
    "- **Answer Relevancy (0.7355):** \n",
    "  - **Interpretation:** The generated answers are about 73.55% relevant to the original questions, suggesting that the answers are generally on point but could be more pertinent.\n",
    "\n",
    "- **Context Recall (0.8667):** \n",
    "  - **Interpretation:** The system retrieves 86.67% of the relevant claims from the context, indicating strong performance in capturing the necessary information.\n",
    "\n",
    "- **Answer Correctness (0.6754):** \n",
    "  - **Interpretation:** The correctness of the answers is 67.54%, meaning the answers are reasonably accurate but there is significant room for improvement in terms of factual accuracy and correctness.\n",
    "\n",
    "- **Answer Similarity (0.9398):** \n",
    "  - **Interpretation:** The answers are 93.98% similar to the ground truth, showing a high degree of semantic alignment with the expected responses."
   ]
  },
  {
   "cell_type": "code",
   "execution_count": null,
   "id": "8e8f7fb7-46ab-45f9-95d7-26f6f74890a2",
   "metadata": {},
   "outputs": [],
   "source": [
    "df = basic_qa_result.to_pandas()\n",
    "df.head()"
   ]
  },
  {
   "cell_type": "code",
   "execution_count": null,
   "id": "71c14d90-7fa6-4a55-9775-7193c05884a3",
   "metadata": {},
   "outputs": [],
   "source": [
    "df.to_csv('normal_retriever_evaluation.csv', index=False)"
   ]
  },
  {
   "cell_type": "markdown",
   "id": "9b303b75-a687-4089-b11d-edf6ce5886c2",
   "metadata": {
    "jp-MarkdownHeadingCollapsed": true
   },
   "source": [
    "## III.Testing Other Retrieval Methods (Retrievers)"
   ]
  },
  {
   "cell_type": "markdown",
   "id": "8d5dab9e-0d6d-4791-b23c-84b84de1b287",
   "metadata": {
    "jp-MarkdownHeadingCollapsed": true
   },
   "source": [
    "### We'll create a qa_chain factory where the qa_chain itself stays the same, and only the retriever changes."
   ]
  },
  {
   "cell_type": "code",
   "execution_count": 15,
   "id": "43f0db81-4841-498e-8218-e7f3a1a3b4d0",
   "metadata": {},
   "outputs": [],
   "source": [
    "def create_qa_chain(retriever):\n",
    "  primary_qa_llm = ChatOpenAI(model_name=\"gpt-4o-mini\", temperature=0)\n",
    "  created_qa_chain = (\n",
    "    {\"context\": itemgetter(\"question\") | retriever,\n",
    "     \"question\": itemgetter(\"question\")\n",
    "    }\n",
    "    | RunnablePassthrough.assign(\n",
    "        context=itemgetter(\"context\")\n",
    "      )\n",
    "    | {\n",
    "         \"response\": prompt | primary_qa_llm,\n",
    "         \"context\": itemgetter(\"context\"),\n",
    "      }\n",
    "  )\n",
    "  return created_qa_chain"
   ]
  },
  {
   "cell_type": "markdown",
   "id": "7bdf03a9-6bb9-4a27-88df-d76e343b9f3c",
   "metadata": {
    "jp-MarkdownHeadingCollapsed": true
   },
   "source": [
    "### [Parent Document Retriever](https://python.langchain.com/docs/modules/data_connection/retrievers/parent_document_retriever)"
   ]
  },
  {
   "cell_type": "markdown",
   "id": "8e7b08c3-b2ac-4bd0-a7cf-a0fc680360da",
   "metadata": {},
   "source": [
    "---\n",
    "When splitting documents for retrieval, there are often conflicting desires:\n",
    "1. You may want to have small documents, so that their embeddings can most accurately reflect their meaning. If too long, then the embeddings can lose meaning.\n",
    "2. You want to have long enough documents that the context of each chunk is retained.\n",
    "\n",
    "The ParentDocumentRetriever strikes that balance by splitting and storing small chunks of data. During retrieval, it first fetches the small chunks but then looks up the parent ids for those chunks and returns those larger documents.\n",
    "\n",
    "Note that \"parent document\" refers to the document that a small chunk originated from. This can either be the whole raw document OR a larger chunk."
   ]
  },
  {
   "cell_type": "markdown",
   "id": "f8f52197-1c96-409b-87f9-22de1c15f56e",
   "metadata": {},
   "source": [
    "---\n",
    "The idea is to embed our documents into small chunks, and then retrieve a significant amount of additional context that \"surrounds\" the found context.\n",
    "\n",
    "The basic outline of this retrieval method is as follows:\n",
    "\n",
    "1. Obtain User Question\n",
    "2. Retrieve child documents using Dense Vector Retrieval\n",
    "3. Merge the child documents based on their parents. If they have the same parents - they become merged.\n",
    "4. Replace the child documents with their respective parent documents from an in-memory-store.\n",
    "5. Use the parent documents to augment generation."
   ]
  },
  {
   "cell_type": "code",
   "execution_count": 8,
   "id": "55943e39-a29d-4660-bfeb-5a059f795a4b",
   "metadata": {},
   "outputs": [],
   "source": [
    "from langchain_chroma import Chroma\n",
    "from langchain_openai import OpenAIEmbeddings\n",
    "from langchain_text_splitters import RecursiveCharacterTextSplitter\n",
    "from langchain.retrievers import ParentDocumentRetriever\n",
    "from langchain.storage import InMemoryStore\n",
    "\n",
    "parent_splitter = RecursiveCharacterTextSplitter(chunk_size=1500)\n",
    "child_splitter = RecursiveCharacterTextSplitter(chunk_size=200)\n",
    "\n",
    "vectorstore = Chroma(collection_name=\"split_parents\", embedding_function=OpenAIEmbeddings())\n",
    "\n",
    "store = InMemoryStore()"
   ]
  },
  {
   "cell_type": "code",
   "execution_count": 9,
   "id": "ab9e7d59-1910-4654-8824-ed8ce075301e",
   "metadata": {},
   "outputs": [],
   "source": [
    "parent_document_retriever = ParentDocumentRetriever(\n",
    "    vectorstore=vectorstore,\n",
    "    docstore=store,\n",
    "    child_splitter=child_splitter,\n",
    "    parent_splitter=parent_splitter,\n",
    ")"
   ]
  },
  {
   "cell_type": "code",
   "execution_count": 11,
   "id": "beb7d3b4-2a0b-42a5-b1cb-69f92ede7e58",
   "metadata": {},
   "outputs": [],
   "source": [
    "from prepareData import read_pdfs\n",
    "DATA_PATH = './data'\n",
    "docs = read_pdfs(DATA_PATH)\n",
    "parent_document_retriever.add_documents(docs)"
   ]
  },
  {
   "cell_type": "code",
   "execution_count": 16,
   "id": "e2515114-925f-4804-be96-65e87cefadce",
   "metadata": {},
   "outputs": [],
   "source": [
    "parent_document_retriever_qa_chain = create_qa_chain(parent_document_retriever)"
   ]
  },
  {
   "cell_type": "code",
   "execution_count": 17,
   "id": "9b91566c-e045-4137-adc4-44f535cbdac2",
   "metadata": {},
   "outputs": [
    {
     "data": {
      "text/plain": [
       "'La date de naissance de Khalid Regui est le 20 mars 2002.'"
      ]
     },
     "execution_count": 17,
     "metadata": {},
     "output_type": "execute_result"
    }
   ],
   "source": [
    "parent_document_retriever_qa_chain.invoke({\"question\" : \"Quelle est la date de naissance de Khalid Regui ?\"})[\"response\"].content"
   ]
  },
  {
   "cell_type": "code",
   "execution_count": 23,
   "id": "6966a266-b2d5-4498-924e-cdde8125c753",
   "metadata": {},
   "outputs": [
    {
     "data": {
      "application/vnd.jupyter.widget-view+json": {
       "model_id": "44ef6a86ed484cdda289c60e4a675d11",
       "version_major": 2,
       "version_minor": 0
      },
      "text/plain": [
       "Generating train split: 0 examples [00:00, ? examples/s]"
      ]
     },
     "metadata": {},
     "output_type": "display_data"
    },
    {
     "name": "stderr",
     "output_type": "stream",
     "text": [
      "100%|██████████████████████████████████████████████████████████████████████████████████| 10/10 [00:21<00:00,  2.17s/it]\n"
     ]
    }
   ],
   "source": [
    "from tqdm import tqdm\n",
    "import pandas as pd\n",
    "from datasets import Dataset\n",
    "eval_dataset = Dataset.from_csv(\"groundtruth_eval_dataset.csv\")\n",
    "\n",
    "pdr_qa_ragas_dataset = create_ragas_dataset(parent_document_retriever_qa_chain, eval_dataset)"
   ]
  },
  {
   "cell_type": "code",
   "execution_count": 24,
   "id": "59578f9d-8906-43bc-af1a-de2523bddcec",
   "metadata": {},
   "outputs": [
    {
     "data": {
      "application/vnd.jupyter.widget-view+json": {
       "model_id": "d1f8eea377794b039fd39dcd5a11df67",
       "version_major": 2,
       "version_minor": 0
      },
      "text/plain": [
       "Creating CSV from Arrow format:   0%|          | 0/1 [00:00<?, ?ba/s]"
      ]
     },
     "metadata": {},
     "output_type": "display_data"
    },
    {
     "data": {
      "text/plain": [
       "33694"
      ]
     },
     "execution_count": 24,
     "metadata": {},
     "output_type": "execute_result"
    }
   ],
   "source": [
    "pdr_qa_ragas_dataset.to_csv(\"pdr_qa_ragas_dataset.csv\")"
   ]
  },
  {
   "cell_type": "code",
   "execution_count": 25,
   "id": "178f50e3-373e-4a36-92d0-92ea9a0b8cdd",
   "metadata": {},
   "outputs": [
    {
     "data": {
      "text/html": [
       "<div>\n",
       "<style scoped>\n",
       "    .dataframe tbody tr th:only-of-type {\n",
       "        vertical-align: middle;\n",
       "    }\n",
       "\n",
       "    .dataframe tbody tr th {\n",
       "        vertical-align: top;\n",
       "    }\n",
       "\n",
       "    .dataframe thead th {\n",
       "        text-align: right;\n",
       "    }\n",
       "</style>\n",
       "<table border=\"1\" class=\"dataframe\">\n",
       "  <thead>\n",
       "    <tr style=\"text-align: right;\">\n",
       "      <th></th>\n",
       "      <th>question</th>\n",
       "      <th>answer</th>\n",
       "      <th>contexts</th>\n",
       "      <th>ground_truths</th>\n",
       "    </tr>\n",
       "  </thead>\n",
       "  <tbody>\n",
       "    <tr>\n",
       "      <th>0</th>\n",
       "      <td>Quelles sont les données personnelles demandée...</td>\n",
       "      <td>Je ne sais pas.</td>\n",
       "      <td>[loi n°43-05 relative à la lutte \\r contre le ...</td>\n",
       "      <td>[Les données personnelles demandées par l'assu...</td>\n",
       "    </tr>\n",
       "    <tr>\n",
       "      <th>1</th>\n",
       "      <td>Quelles obligations légales l’assureur doit-il...</td>\n",
       "      <td>L'assureur doit respecter les obligations léga...</td>\n",
       "      <td>[loi n°43-05 relative à la lutte \\r contre le ...</td>\n",
       "      <td>[L'assureur doit respecter plusieurs obligatio...</td>\n",
       "    </tr>\n",
       "    <tr>\n",
       "      <th>2</th>\n",
       "      <td>Quelle est la date de signature du contrat de ...</td>\n",
       "      <td>La date de signature du contrat de Khalid Regu...</td>\n",
       "      <td>[du Souscripteur Signature de l’Assureur \\r  \\...</td>\n",
       "      <td>[La date de signature du contrat de Khalid Reg...</td>\n",
       "    </tr>\n",
       "    <tr>\n",
       "      <th>3</th>\n",
       "      <td>Quel document Khalid Regui a-t-il dû signer po...</td>\n",
       "      <td>Khalid Regui a dû signer la case prévue pour a...</td>\n",
       "      <td>[telle sorte que leur accès soit \\r impossible...</td>\n",
       "      <td>[Khalid Regui a dû signer la case prévue pour ...</td>\n",
       "    </tr>\n",
       "    <tr>\n",
       "      <th>4</th>\n",
       "      <td>Quelles sont les conséquences en cas de manque...</td>\n",
       "      <td>En cas de manquement à la discipline, l'Entrep...</td>\n",
       "      <td>[Durant le stage, L’éleve-stagiaire est soumis...</td>\n",
       "      <td>[En cas de manquement à la discipline, l'Entre...</td>\n",
       "    </tr>\n",
       "  </tbody>\n",
       "</table>\n",
       "</div>"
      ],
      "text/plain": [
       "                                            question  \\\n",
       "0  Quelles sont les données personnelles demandée...   \n",
       "1  Quelles obligations légales l’assureur doit-il...   \n",
       "2  Quelle est la date de signature du contrat de ...   \n",
       "3  Quel document Khalid Regui a-t-il dû signer po...   \n",
       "4  Quelles sont les conséquences en cas de manque...   \n",
       "\n",
       "                                              answer  \\\n",
       "0                                    Je ne sais pas.   \n",
       "1  L'assureur doit respecter les obligations léga...   \n",
       "2  La date de signature du contrat de Khalid Regu...   \n",
       "3  Khalid Regui a dû signer la case prévue pour a...   \n",
       "4  En cas de manquement à la discipline, l'Entrep...   \n",
       "\n",
       "                                            contexts  \\\n",
       "0  [loi n°43-05 relative à la lutte \\r contre le ...   \n",
       "1  [loi n°43-05 relative à la lutte \\r contre le ...   \n",
       "2  [du Souscripteur Signature de l’Assureur \\r  \\...   \n",
       "3  [telle sorte que leur accès soit \\r impossible...   \n",
       "4  [Durant le stage, L’éleve-stagiaire est soumis...   \n",
       "\n",
       "                                       ground_truths  \n",
       "0  [Les données personnelles demandées par l'assu...  \n",
       "1  [L'assureur doit respecter plusieurs obligatio...  \n",
       "2  [La date de signature du contrat de Khalid Reg...  \n",
       "3  [Khalid Regui a dû signer la case prévue pour ...  \n",
       "4  [En cas de manquement à la discipline, l'Entre...  "
      ]
     },
     "execution_count": 25,
     "metadata": {},
     "output_type": "execute_result"
    }
   ],
   "source": [
    "df_pdr = pdr_qa_ragas_dataset.to_pandas()\n",
    "df_pdr.head()"
   ]
  },
  {
   "cell_type": "code",
   "execution_count": 26,
   "id": "c340baa1-90cd-4332-9a5d-ce03faba240d",
   "metadata": {},
   "outputs": [
    {
     "name": "stderr",
     "output_type": "stream",
     "text": [
      "passing column names as 'ground_truths' is deprecated and will be removed in the next version, please use 'ground_truth' instead. Note that `ground_truth` should be of type string and not Sequence[string] like `ground_truths`\n"
     ]
    },
    {
     "data": {
      "application/vnd.jupyter.widget-view+json": {
       "model_id": "7922d9e634af4d47ba2dd87d458a241c",
       "version_major": 2,
       "version_minor": 0
      },
      "text/plain": [
       "Evaluating:   0%|          | 0/60 [00:00<?, ?it/s]"
      ]
     },
     "metadata": {},
     "output_type": "display_data"
    }
   ],
   "source": [
    "pdr_qa_result = evaluate_ragas_dataset(pdr_qa_ragas_dataset)"
   ]
  },
  {
   "cell_type": "code",
   "execution_count": 27,
   "id": "b3889dec-0098-4a41-aa81-a5fc543a1de3",
   "metadata": {},
   "outputs": [
    {
     "name": "stdout",
     "output_type": "stream",
     "text": [
      "context_precision  : 0.7499999999366667\n",
      "faithfulness  : 0.8666666666666666\n",
      "answer_relevancy  : 0.7555640540497939\n",
      "context_recall  : 0.7333333333333333\n",
      "answer_correctness  : 0.5979607963171928\n",
      "answer_similarity  : 0.9273762576310502\n"
     ]
    }
   ],
   "source": [
    "for k,v in pdr_qa_result.items():\n",
    "    print(k, \" : \", end=\"\")\n",
    "    print(v)"
   ]
  },
  {
   "cell_type": "markdown",
   "id": "447d9d57-9569-4bbb-a5a3-8404bd1f1400",
   "metadata": {
    "jp-MarkdownHeadingCollapsed": true
   },
   "source": [
    "### [Ensemble Retrieval](https://python.langchain.com/docs/modules/data_connection/retrievers/ensemble)"
   ]
  },
  {
   "cell_type": "markdown",
   "id": "e1f64d0f-b87a-4103-97e7-36f0507ee769",
   "metadata": {},
   "source": [
    "The basic idea is as follows:\n",
    "\n",
    "1. Obtain User Question\n",
    "2. Hit the Retriever Pair\n",
    "    - Retrieve Documents with BM25 Sparse Vector Retrieval\n",
    "    - Retrieve Documents with Dense Vector Retrieval Method\n",
    "3. Collect and \"fuse\" the retrieved docs based on their weighting using the [Reciprocal Rank Fusion](https://plg.uwaterloo.ca/~gvcormac/cormacksigir09-rrf.pdf) algorithm into a single ranked list.\n",
    "4. Use those documents to augment our generation.\n",
    "\n",
    "Ensure your `weights` list - the relative weighting of each retriever - sums to 1!"
   ]
  },
  {
   "cell_type": "code",
   "execution_count": 30,
   "id": "59753827-435f-4d2b-8cfe-80ea77d6a116",
   "metadata": {},
   "outputs": [],
   "source": [
    "from langchain.retrievers import BM25Retriever, EnsembleRetriever\n",
    "\n",
    "text_splitter = RecursiveCharacterTextSplitter(chunk_size=450, chunk_overlap=75)\n",
    "docs = text_splitter.split_documents(docs)\n",
    "\n",
    "bm25_retriever = BM25Retriever.from_documents(docs)\n",
    "bm25_retriever.k = 2\n",
    "\n",
    "embedding = OpenAIEmbeddings()\n",
    "vectorstore = Chroma.from_documents(docs, embedding)\n",
    "chroma_retriever = vectorstore.as_retriever(search_kwargs={\"k\": 3})\n",
    "\n",
    "ensemble_retriever = EnsembleRetriever(retrievers=[bm25_retriever, chroma_retriever], weights=[0.75, 0.25])"
   ]
  },
  {
   "cell_type": "code",
   "execution_count": 31,
   "id": "e9dcd20c-7c21-4501-b57e-fba1c384888d",
   "metadata": {},
   "outputs": [],
   "source": [
    "ensemble_retriever_qa_chain = create_qa_chain(ensemble_retriever)"
   ]
  },
  {
   "cell_type": "code",
   "execution_count": 32,
   "id": "6e0b1ec0-2651-4fab-b7ea-ae87bc5207e3",
   "metadata": {},
   "outputs": [
    {
     "data": {
      "text/plain": [
       "'La date de naissance de Khalid Regui est le 20 mars 2002.'"
      ]
     },
     "execution_count": 32,
     "metadata": {},
     "output_type": "execute_result"
    }
   ],
   "source": [
    "ensemble_retriever_qa_chain.invoke({\"question\" : \"Quelle est la date de naissance de Khalid Regui ?\"})[\"response\"].content"
   ]
  },
  {
   "cell_type": "code",
   "execution_count": 33,
   "id": "5bbfbbb1-6b8a-4514-9ffc-7d26cbaf5fdc",
   "metadata": {},
   "outputs": [
    {
     "name": "stderr",
     "output_type": "stream",
     "text": [
      "100%|██████████████████████████████████████████████████████████████████████████████████| 10/10 [00:16<00:00,  1.68s/it]\n"
     ]
    }
   ],
   "source": [
    "ensemble_qa_ragas_dataset = create_ragas_dataset(ensemble_retriever_qa_chain, eval_dataset)"
   ]
  },
  {
   "cell_type": "code",
   "execution_count": 34,
   "id": "1c7438ab-5928-423b-8143-7e87060cbd9a",
   "metadata": {},
   "outputs": [
    {
     "data": {
      "application/vnd.jupyter.widget-view+json": {
       "model_id": "3f0f6e2a5f2445caa69bf872fbb3fa03",
       "version_major": 2,
       "version_minor": 0
      },
      "text/plain": [
       "Creating CSV from Arrow format:   0%|          | 0/1 [00:00<?, ?ba/s]"
      ]
     },
     "metadata": {},
     "output_type": "display_data"
    },
    {
     "data": {
      "text/plain": [
       "24560"
      ]
     },
     "execution_count": 34,
     "metadata": {},
     "output_type": "execute_result"
    }
   ],
   "source": [
    "ensemble_qa_ragas_dataset.to_csv(\"ensemble_qa_ragas_dataset.csv\")"
   ]
  },
  {
   "cell_type": "code",
   "execution_count": 36,
   "id": "c3bf069c-38b5-424f-96e0-d7ecae4e5c3d",
   "metadata": {},
   "outputs": [
    {
     "data": {
      "text/html": [
       "<div>\n",
       "<style scoped>\n",
       "    .dataframe tbody tr th:only-of-type {\n",
       "        vertical-align: middle;\n",
       "    }\n",
       "\n",
       "    .dataframe tbody tr th {\n",
       "        vertical-align: top;\n",
       "    }\n",
       "\n",
       "    .dataframe thead th {\n",
       "        text-align: right;\n",
       "    }\n",
       "</style>\n",
       "<table border=\"1\" class=\"dataframe\">\n",
       "  <thead>\n",
       "    <tr style=\"text-align: right;\">\n",
       "      <th></th>\n",
       "      <th>question</th>\n",
       "      <th>answer</th>\n",
       "      <th>contexts</th>\n",
       "      <th>ground_truths</th>\n",
       "    </tr>\n",
       "  </thead>\n",
       "  <tbody>\n",
       "    <tr>\n",
       "      <th>0</th>\n",
       "      <td>Quelles sont les données personnelles demandée...</td>\n",
       "      <td>Je ne sais pas.</td>\n",
       "      <td>[DE CAPITAUX ET FINANCEMENT DU TERRORISME\\r Le...</td>\n",
       "      <td>[Les données personnelles demandées par l'assu...</td>\n",
       "    </tr>\n",
       "    <tr>\n",
       "      <th>1</th>\n",
       "      <td>Quelles obligations légales l’assureur doit-il...</td>\n",
       "      <td>L'assureur doit respecter les obligations léga...</td>\n",
       "      <td>[est nécessaire pour permettre à l’assureur de...</td>\n",
       "      <td>[L'assureur doit respecter plusieurs obligatio...</td>\n",
       "    </tr>\n",
       "    <tr>\n",
       "      <th>2</th>\n",
       "      <td>Quelle est la date de signature du contrat de ...</td>\n",
       "      <td>Je ne sais pas.</td>\n",
       "      <td>[: \\r Profession : CIN : \\r Adresse habituelle...</td>\n",
       "      <td>[La date de signature du contrat de Khalid Reg...</td>\n",
       "    </tr>\n",
       "    <tr>\n",
       "      <th>3</th>\n",
       "      <td>Quel document Khalid Regui a-t-il dû signer po...</td>\n",
       "      <td>Khalid Regui a dû signer un document attestant...</td>\n",
       "      <td>[de façon manuscrite par le souscripteur, pour...</td>\n",
       "      <td>[Khalid Regui a dû signer la case prévue pour ...</td>\n",
       "    </tr>\n",
       "    <tr>\n",
       "      <th>4</th>\n",
       "      <td>Quelles sont les conséquences en cas de manque...</td>\n",
       "      <td>En cas de manquement à la discipline, l'Entrep...</td>\n",
       "      <td>[Article 5\\nEn cas d'interruption du stage pou...</td>\n",
       "      <td>[En cas de manquement à la discipline, l'Entre...</td>\n",
       "    </tr>\n",
       "  </tbody>\n",
       "</table>\n",
       "</div>"
      ],
      "text/plain": [
       "                                            question  \\\n",
       "0  Quelles sont les données personnelles demandée...   \n",
       "1  Quelles obligations légales l’assureur doit-il...   \n",
       "2  Quelle est la date de signature du contrat de ...   \n",
       "3  Quel document Khalid Regui a-t-il dû signer po...   \n",
       "4  Quelles sont les conséquences en cas de manque...   \n",
       "\n",
       "                                              answer  \\\n",
       "0                                    Je ne sais pas.   \n",
       "1  L'assureur doit respecter les obligations léga...   \n",
       "2                                    Je ne sais pas.   \n",
       "3  Khalid Regui a dû signer un document attestant...   \n",
       "4  En cas de manquement à la discipline, l'Entrep...   \n",
       "\n",
       "                                            contexts  \\\n",
       "0  [DE CAPITAUX ET FINANCEMENT DU TERRORISME\\r Le...   \n",
       "1  [est nécessaire pour permettre à l’assureur de...   \n",
       "2  [: \\r Profession : CIN : \\r Adresse habituelle...   \n",
       "3  [de façon manuscrite par le souscripteur, pour...   \n",
       "4  [Article 5\\nEn cas d'interruption du stage pou...   \n",
       "\n",
       "                                       ground_truths  \n",
       "0  [Les données personnelles demandées par l'assu...  \n",
       "1  [L'assureur doit respecter plusieurs obligatio...  \n",
       "2  [La date de signature du contrat de Khalid Reg...  \n",
       "3  [Khalid Regui a dû signer la case prévue pour ...  \n",
       "4  [En cas de manquement à la discipline, l'Entre...  "
      ]
     },
     "execution_count": 36,
     "metadata": {},
     "output_type": "execute_result"
    }
   ],
   "source": [
    "df_ensemble = ensemble_qa_ragas_dataset.to_pandas()\n",
    "df_ensemble.head()"
   ]
  },
  {
   "cell_type": "code",
   "execution_count": 35,
   "id": "dddc1ba7-f6ef-42a0-9aa2-b13498b462fa",
   "metadata": {},
   "outputs": [
    {
     "name": "stderr",
     "output_type": "stream",
     "text": [
      "passing column names as 'ground_truths' is deprecated and will be removed in the next version, please use 'ground_truth' instead. Note that `ground_truth` should be of type string and not Sequence[string] like `ground_truths`\n"
     ]
    },
    {
     "data": {
      "application/vnd.jupyter.widget-view+json": {
       "model_id": "3850259b16084fcb8f891cf3e25baf49",
       "version_major": 2,
       "version_minor": 0
      },
      "text/plain": [
       "Evaluating:   0%|          | 0/60 [00:00<?, ?it/s]"
      ]
     },
     "metadata": {},
     "output_type": "display_data"
    }
   ],
   "source": [
    "ensemble_qa_result = evaluate_ragas_dataset(ensemble_qa_ragas_dataset)"
   ]
  },
  {
   "cell_type": "code",
   "execution_count": 37,
   "id": "0b31beee-1dc0-45c8-a76b-77d50846947b",
   "metadata": {},
   "outputs": [
    {
     "name": "stdout",
     "output_type": "stream",
     "text": [
      "context_precision  : 0.6588888888563704\n",
      "faithfulness  : 0.8\n",
      "answer_relevancy  : 0.5535005939013578\n",
      "context_recall  : 0.5933333333333334\n",
      "answer_correctness  : 0.44538571031927143\n",
      "answer_similarity  : 0.9036107333180083\n"
     ]
    }
   ],
   "source": [
    "for k,v in ensemble_qa_result.items():\n",
    "    print(k, \" : \", end=\"\")\n",
    "    print(v)"
   ]
  },
  {
   "cell_type": "code",
   "execution_count": 69,
   "id": "06e5b677-f7c2-4bf8-bdab-6dfae6475ead",
   "metadata": {},
   "outputs": [],
   "source": [
    "# ensemble_qa_result_df = ensemble_qa_result.to_pandas()\n",
    "# ensemble_qa_result_df.head()"
   ]
  },
  {
   "cell_type": "markdown",
   "id": "ff532fb3-be81-4622-8062-e710ff6451e0",
   "metadata": {
    "jp-MarkdownHeadingCollapsed": true
   },
   "source": [
    "### [MultiQueryRetriever](https://python.langchain.com/v0.1/docs/modules/data_connection/retrievers/MultiQueryRetriever/)"
   ]
  },
  {
   "cell_type": "markdown",
   "id": "0f1c57c7-e9ee-4ebc-bbcc-91ef129800be",
   "metadata": {},
   "source": [
    "Distance-based vector database retrieval embeds (represents) queries in high-dimensional space and finds similar embedded documents based on \"distance\". But, retrieval may produce different results with subtle changes in query wording or if the embeddings do not capture the semantics of the data well. Prompt engineering / tuning is sometimes done to manually address these problems, but can be tedious.\n",
    "\n",
    "The MultiQueryRetriever automates the process of prompt tuning by using an LLM to generate multiple queries from different perspectives for a given user input query. For each query, it retrieves a set of relevant documents and takes the unique union across all queries to get a larger set of potentially relevant documents. By generating multiple perspectives on the same question, the MultiQueryRetriever might be able to overcome some of the limitations of the distance-based retrieval and get a richer set of results."
   ]
  },
  {
   "cell_type": "code",
   "execution_count": 54,
   "id": "0f254911-1fc3-4d29-b119-0bafe678d38e",
   "metadata": {},
   "outputs": [],
   "source": [
    "from langchain_chroma import Chroma\n",
    "from langchain_openai import OpenAIEmbeddings\n",
    "from langchain_text_splitters import RecursiveCharacterTextSplitter\n",
    "\n",
    "text_splitter = RecursiveCharacterTextSplitter(chunk_size=500, chunk_overlap=0)\n",
    "splits = text_splitter.split_documents(docs)\n",
    "\n",
    "embedding = OpenAIEmbeddings()\n",
    "vectordb = Chroma.from_documents(documents=splits, embedding=embedding)"
   ]
  },
  {
   "cell_type": "code",
   "execution_count": 57,
   "id": "0cc502a5-0b5a-4af3-8785-9c8e6cc9769a",
   "metadata": {},
   "outputs": [],
   "source": [
    "from langchain.retrievers.multi_query import MultiQueryRetriever\n",
    "from langchain_openai import ChatOpenAI\n",
    "\n",
    "question = \"What are the approaches to Task Decomposition?\"\n",
    "llm = ChatOpenAI(temperature=0)\n",
    "mq_retriever = MultiQueryRetriever.from_llm(\n",
    "    retriever=vectordb.as_retriever(), llm=llm\n",
    ")"
   ]
  },
  {
   "cell_type": "code",
   "execution_count": 58,
   "id": "0d88fc7a-ca2a-4df3-8bdb-13e6abd06df3",
   "metadata": {},
   "outputs": [],
   "source": [
    "mq_retriever_qa_chain = create_qa_chain(mq_retriever)"
   ]
  },
  {
   "cell_type": "code",
   "execution_count": 59,
   "id": "7b51bc3f-f3be-42cf-8133-bd4ac8c60095",
   "metadata": {},
   "outputs": [
    {
     "data": {
      "text/plain": [
       "'La date de naissance de Khalid Regui est le 20 mars 2002.'"
      ]
     },
     "execution_count": 59,
     "metadata": {},
     "output_type": "execute_result"
    }
   ],
   "source": [
    "mq_retriever_qa_chain.invoke({\"question\" : \"Quelle est la date de naissance de Khalid Regui ?\"})[\"response\"].content"
   ]
  },
  {
   "cell_type": "code",
   "execution_count": 60,
   "id": "f95250f0-1d0a-46ce-844e-48720d902f1b",
   "metadata": {},
   "outputs": [
    {
     "name": "stderr",
     "output_type": "stream",
     "text": [
      "100%|██████████████████████████████████████████████████████████████████████████████████| 10/10 [00:59<00:00,  5.98s/it]\n"
     ]
    }
   ],
   "source": [
    "mq_qa_ragas_dataset = create_ragas_dataset(mq_retriever_qa_chain, eval_dataset)"
   ]
  },
  {
   "cell_type": "code",
   "execution_count": 61,
   "id": "8458b4af-01e6-481d-83f3-23ad2992041d",
   "metadata": {},
   "outputs": [
    {
     "data": {
      "application/vnd.jupyter.widget-view+json": {
       "model_id": "b2c33dd5e15c4ebe98de3a3583b0a662",
       "version_major": 2,
       "version_minor": 0
      },
      "text/plain": [
       "Creating CSV from Arrow format:   0%|          | 0/1 [00:00<?, ?ba/s]"
      ]
     },
     "metadata": {},
     "output_type": "display_data"
    },
    {
     "data": {
      "text/plain": [
       "17562"
      ]
     },
     "execution_count": 61,
     "metadata": {},
     "output_type": "execute_result"
    }
   ],
   "source": [
    "mq_qa_ragas_dataset.to_csv(\"mq_qa_ragas_dataset.csv\")"
   ]
  },
  {
   "cell_type": "code",
   "execution_count": 62,
   "id": "13d47351-8683-47ec-993d-b16a37487cb9",
   "metadata": {},
   "outputs": [
    {
     "name": "stderr",
     "output_type": "stream",
     "text": [
      "passing column names as 'ground_truths' is deprecated and will be removed in the next version, please use 'ground_truth' instead. Note that `ground_truth` should be of type string and not Sequence[string] like `ground_truths`\n"
     ]
    },
    {
     "data": {
      "application/vnd.jupyter.widget-view+json": {
       "model_id": "813415b17a2641298e6c22185457c66e",
       "version_major": 2,
       "version_minor": 0
      },
      "text/plain": [
       "Evaluating:   0%|          | 0/60 [00:00<?, ?it/s]"
      ]
     },
     "metadata": {},
     "output_type": "display_data"
    }
   ],
   "source": [
    "mq_qa_result = evaluate_ragas_dataset(mq_qa_ragas_dataset)"
   ]
  },
  {
   "cell_type": "code",
   "execution_count": 63,
   "id": "004b6e70-05e4-4b20-9c74-14f654daaa61",
   "metadata": {},
   "outputs": [
    {
     "name": "stdout",
     "output_type": "stream",
     "text": [
      "context_precision  : 0.5916666666370833\n",
      "faithfulness  : 0.8800000000000001\n",
      "answer_relevancy  : 0.658136692472586\n",
      "context_recall  : 0.5433333333333332\n",
      "answer_correctness  : 0.4900272837687066\n",
      "answer_similarity  : 0.9265154909873683\n"
     ]
    }
   ],
   "source": [
    "for k,v in mq_qa_result.items():\n",
    "    print(k, \" : \", end=\"\")\n",
    "    print(v)"
   ]
  },
  {
   "cell_type": "markdown",
   "id": "65dd53d0-a112-489c-9bd8-439b9415944e",
   "metadata": {
    "jp-MarkdownHeadingCollapsed": true
   },
   "source": [
    "### Compare the four Retrieval Methods "
   ]
  },
  {
   "cell_type": "code",
   "execution_count": 72,
   "id": "b993d82a-20f8-4dd2-9485-efb4ed7a19e3",
   "metadata": {},
   "outputs": [],
   "source": [
    "def create_df_dict(pipeline_name, pipeline_items):\n",
    "  df_dict = {\"name\" : pipeline_name}\n",
    "  for name, score in pipeline_items:\n",
    "    df_dict[name] = score\n",
    "  return df_dict"
   ]
  },
  {
   "cell_type": "code",
   "execution_count": 70,
   "id": "be0e37ea-1831-4ed2-82b9-8d7570536709",
   "metadata": {},
   "outputs": [],
   "source": [
    "basic_rag_df_dict = create_df_dict(\"basic_rag\", basic_qa_result.items())\n",
    "pdr_rag_df_dict = create_df_dict(\"pdr_rag\", pdr_qa_result.items())\n",
    "ensemble_rag_df_dict = create_df_dict(\"ensemble_rag\", ensemble_qa_result.items())\n",
    "mq_rag_df_dict = create_df_dict(\"mq_rag\",mq_qa_result.items())\n",
    "\n",
    "results_df = pd.DataFrame([basic_rag_df_dict, pdr_rag_df_dict, ensemble_rag_df_dict, mq_rag_df_dict])"
   ]
  },
  {
   "cell_type": "code",
   "execution_count": 71,
   "id": "b7312470-2ecf-4e0a-8464-acfb9afd81c1",
   "metadata": {},
   "outputs": [
    {
     "data": {
      "text/html": [
       "<div>\n",
       "<style scoped>\n",
       "    .dataframe tbody tr th:only-of-type {\n",
       "        vertical-align: middle;\n",
       "    }\n",
       "\n",
       "    .dataframe tbody tr th {\n",
       "        vertical-align: top;\n",
       "    }\n",
       "\n",
       "    .dataframe thead th {\n",
       "        text-align: right;\n",
       "    }\n",
       "</style>\n",
       "<table border=\"1\" class=\"dataframe\">\n",
       "  <thead>\n",
       "    <tr style=\"text-align: right;\">\n",
       "      <th></th>\n",
       "      <th>name</th>\n",
       "      <th>context_precision</th>\n",
       "      <th>faithfulness</th>\n",
       "      <th>answer_relevancy</th>\n",
       "      <th>context_recall</th>\n",
       "      <th>answer_correctness</th>\n",
       "      <th>answer_similarity</th>\n",
       "    </tr>\n",
       "  </thead>\n",
       "  <tbody>\n",
       "    <tr>\n",
       "      <th>0</th>\n",
       "      <td>basic_rag</td>\n",
       "      <td>0.900000</td>\n",
       "      <td>0.850000</td>\n",
       "      <td>0.735838</td>\n",
       "      <td>0.866667</td>\n",
       "      <td>0.624242</td>\n",
       "      <td>0.930300</td>\n",
       "    </tr>\n",
       "    <tr>\n",
       "      <th>1</th>\n",
       "      <td>pdr_rag</td>\n",
       "      <td>0.750000</td>\n",
       "      <td>0.866667</td>\n",
       "      <td>0.755564</td>\n",
       "      <td>0.733333</td>\n",
       "      <td>0.597961</td>\n",
       "      <td>0.927376</td>\n",
       "    </tr>\n",
       "    <tr>\n",
       "      <th>3</th>\n",
       "      <td>mq_rag</td>\n",
       "      <td>0.591667</td>\n",
       "      <td>0.880000</td>\n",
       "      <td>0.658137</td>\n",
       "      <td>0.543333</td>\n",
       "      <td>0.490027</td>\n",
       "      <td>0.926515</td>\n",
       "    </tr>\n",
       "    <tr>\n",
       "      <th>2</th>\n",
       "      <td>ensemble_rag</td>\n",
       "      <td>0.658889</td>\n",
       "      <td>0.800000</td>\n",
       "      <td>0.553501</td>\n",
       "      <td>0.593333</td>\n",
       "      <td>0.445386</td>\n",
       "      <td>0.903611</td>\n",
       "    </tr>\n",
       "  </tbody>\n",
       "</table>\n",
       "</div>"
      ],
      "text/plain": [
       "           name  context_precision  faithfulness  answer_relevancy  \\\n",
       "0     basic_rag           0.900000      0.850000          0.735838   \n",
       "1       pdr_rag           0.750000      0.866667          0.755564   \n",
       "3        mq_rag           0.591667      0.880000          0.658137   \n",
       "2  ensemble_rag           0.658889      0.800000          0.553501   \n",
       "\n",
       "   context_recall  answer_correctness  answer_similarity  \n",
       "0        0.866667            0.624242           0.930300  \n",
       "1        0.733333            0.597961           0.927376  \n",
       "3        0.543333            0.490027           0.926515  \n",
       "2        0.593333            0.445386           0.903611  "
      ]
     },
     "execution_count": 71,
     "metadata": {},
     "output_type": "execute_result"
    }
   ],
   "source": [
    "results_df.sort_values(\"answer_correctness\", ascending=False)"
   ]
  },
  {
   "cell_type": "markdown",
   "id": "6322ffaf-6f95-4375-ae2c-87a4bae7d4d1",
   "metadata": {},
   "source": [
    "-> ***we choose the first one***\n",
    "\n",
    "-> ***but we can change other parameters for each Retrieval Method and see if there is any improvement.***"
   ]
  },
  {
   "cell_type": "code",
   "execution_count": null,
   "id": "459e23b1-de78-4001-b2ec-357ce1df322c",
   "metadata": {},
   "outputs": [],
   "source": []
  }
 ],
 "metadata": {
  "kernelspec": {
   "display_name": "Python 3 (ipykernel)",
   "language": "python",
   "name": "python3"
  },
  "language_info": {
   "codemirror_mode": {
    "name": "ipython",
    "version": 3
   },
   "file_extension": ".py",
   "mimetype": "text/x-python",
   "name": "python",
   "nbconvert_exporter": "python",
   "pygments_lexer": "ipython3",
   "version": "3.12.4"
  }
 },
 "nbformat": 4,
 "nbformat_minor": 5
}
